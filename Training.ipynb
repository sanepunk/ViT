{
  "cells": [
    {
      "cell_type": "code",
      "execution_count": 1,
      "metadata": {
        "colab": {
          "base_uri": "https://localhost:8080/"
        },
        "id": "pCT2u4XKxVoQ",
        "outputId": "06e378bb-1fea-4d63-85da-2b01617b6a57"
      },
      "outputs": [
        {
          "name": "stdout",
          "output_type": "stream",
          "text": [
            "Cloning into 'ViT'...\n",
            "remote: Enumerating objects: 58, done.\u001b[K\n",
            "remote: Counting objects: 100% (58/58), done.\u001b[K\n",
            "remote: Compressing objects: 100% (46/46), done.\u001b[K\n",
            "remote: Total 58 (delta 23), reused 38 (delta 10), pack-reused 0 (from 0)\u001b[K\n",
            "Receiving objects: 100% (58/58), 443.30 KiB | 23.33 MiB/s, done.\n",
            "Resolving deltas: 100% (23/23), done.\n"
          ]
        }
      ],
      "source": [
        "!git clone https://github.com/sanepunk/ViT.git"
      ]
    },
    {
      "cell_type": "code",
      "execution_count": 2,
      "metadata": {
        "id": "-5M-Ln2nVtay"
      },
      "outputs": [],
      "source": [
        "import torch\n",
        "import torch.nn as nn\n",
        "import torch.optim as optim\n",
        "import torchvision\n",
        "import torchvision.transforms as transforms\n",
        "from torch.utils.data import DataLoader\n",
        "from tqdm import tqdm\n",
        "from ViT.models import ViT\n",
        "import sys\n",
        "import numpy as np\n",
        "from sklearn.metrics import accuracy_score\n",
        "torch.set_num_threads(4)\n",
        "torch.cuda.empty_cache()"
      ]
    },
    {
      "cell_type": "code",
      "execution_count": 3,
      "metadata": {
        "id": "4peLDGcDxmF8"
      },
      "outputs": [],
      "source": [
        "model = ViT(\n",
        "    image_size=32,\n",
        "    in_channels=3,\n",
        "    patch_size=4,\n",
        "    num_transformer_layers=20,\n",
        "    embedding_dim=64,\n",
        "    mlp_size=128,\n",
        "    num_heads=4,\n",
        "    attention_dropout=0.1,\n",
        "    mlp_dropout=0.2,\n",
        "    embedding_dropout=0.1,\n",
        "    num_classes=10\n",
        ")\n",
        "# try:\n",
        "#     model.load_state_dict(torch.load('model_interrupted.pth'))\n",
        "# except:\n",
        "#     print(\"Model not available\")\n",
        "model = model.to('cuda')\n",
        "train_accs = []\n",
        "test_accs = []\n",
        "train_losses = []\n",
        "test_losses = []\n",
        "def handle_interrupt():\n",
        "    print(\"\\nTraining interrupted by user (Ctrl+C). Performing cleanup...\")\n",
        "    torch.save(model.state_dict(), \"model_interrupted.pth\")\n",
        "    np.savez('training_results.npz', train_accs, test_accs, train_losses, test_losses)\n",
        "    print(\"Model state saved.\")\n",
        "    sys.exit(0)"
      ]
    },
    {
      "cell_type": "code",
      "execution_count": 12,
      "metadata": {
        "id": "_v71oYzf2JLw"
      },
      "outputs": [],
      "source": [
        "train_accs = []\n",
        "test_accs = []\n",
        "train_losses = []\n",
        "test_losses = []"
      ]
    },
    {
      "cell_type": "code",
      "execution_count": 5,
      "metadata": {
        "id": "EdtFVVU2YcHw"
      },
      "outputs": [],
      "source": [
        "transform = transforms.Compose([\n",
        "    transforms.Resize((32, 32)),\n",
        "    transforms.ToTensor(),\n",
        "    transforms.RandomHorizontalFlip(),\n",
        "    transforms.Normalize(mean=[0.485, 0.456, 0.406], std=[0.229, 0.224, 0.225])\n",
        "])"
      ]
    },
    {
      "cell_type": "code",
      "execution_count": 7,
      "metadata": {
        "colab": {
          "base_uri": "https://localhost:8080/"
        },
        "id": "a76hIaq24sNh",
        "outputId": "e724e9e3-bf78-4052-cc0b-b03ad23fcd34"
      },
      "outputs": [
        {
          "name": "stderr",
          "output_type": "stream",
          "text": [
            "100%|██████████| 170M/170M [00:13<00:00, 12.7MB/s]\n"
          ]
        }
      ],
      "source": [
        "trainset = torchvision.datasets.CIFAR10(root='./data', train = True, download = True, transform=transform)\n",
        "testset = torchvision.datasets.CIFAR10(root='./data', train=False, download=False, transform=transform)\n",
        "\n",
        "trainloader = DataLoader(trainset, batch_size=128, shuffle=True, num_workers=2)\n",
        "testloader = DataLoader(testset, batch_size=16, shuffle=False)\n",
        "\n",
        "criterion = nn.CrossEntropyLoss()\n",
        "optimizer = optim.Adam(model.parameters(), lr=0.001)\n",
        "num_epochs = 10"
      ]
    },
    {
      "cell_type": "code",
      "execution_count": null,
      "metadata": {
        "colab": {
          "base_uri": "https://localhost:8080/",
          "height": 1000
        },
        "id": "4NE2vVLW4uyY",
        "outputId": "2a151eb4-8e2f-4dac-9197-892c2d5469cc"
      },
      "outputs": [
        {
          "name": "stderr",
          "output_type": "stream",
          "text": [
            "Epoch 1/10 - Training: 100%|█████████████████| 391/391 [00:44<00:00,  8.84it/s, acc=35.3, loss=1.75]\n"
          ]
        },
        {
          "name": "stdout",
          "output_type": "stream",
          "text": [
            "Epoch [1/10] - Train Loss: 1.7497 - Train Accuracy: 35.29%\n",
            "Epoch [1/10] - Test Loss: 1.4587 - Test Accuracy: 46.74%\n"
          ]
        },
        {
          "name": "stderr",
          "output_type": "stream",
          "text": [
            "Epoch 2/10 - Training: 100%|█████████████████| 391/391 [00:43<00:00,  9.01it/s, acc=48.6, loss=1.41]\n"
          ]
        },
        {
          "name": "stdout",
          "output_type": "stream",
          "text": [
            "Epoch [2/10] - Train Loss: 1.4108 - Train Accuracy: 48.62%\n",
            "Epoch [2/10] - Test Loss: 1.3006 - Test Accuracy: 52.85%\n"
          ]
        },
        {
          "name": "stderr",
          "output_type": "stream",
          "text": [
            "Epoch 3/10 - Training: 100%|█████████████████| 391/391 [00:42<00:00,  9.22it/s, acc=53.2, loss=1.29]\n"
          ]
        },
        {
          "name": "stdout",
          "output_type": "stream",
          "text": [
            "Epoch [3/10] - Train Loss: 1.2938 - Train Accuracy: 53.22%\n",
            "Epoch [3/10] - Test Loss: 1.2223 - Test Accuracy: 55.81%\n"
          ]
        },
        {
          "name": "stderr",
          "output_type": "stream",
          "text": [
            "Epoch 4/10 - Training: 100%|█████████████████| 391/391 [00:42<00:00,  9.17it/s, acc=56.4, loss=1.21]\n"
          ]
        },
        {
          "name": "stdout",
          "output_type": "stream",
          "text": [
            "Epoch [4/10] - Train Loss: 1.2117 - Train Accuracy: 56.37%\n",
            "Epoch [4/10] - Test Loss: 1.2349 - Test Accuracy: 56.02%\n"
          ]
        },
        {
          "name": "stderr",
          "output_type": "stream",
          "text": [
            "Epoch 5/10 - Training: 100%|█████████████████| 391/391 [00:42<00:00,  9.17it/s, acc=58.2, loss=1.16]\n"
          ]
        },
        {
          "name": "stdout",
          "output_type": "stream",
          "text": [
            "Epoch [5/10] - Train Loss: 1.1574 - Train Accuracy: 58.21%\n",
            "Epoch [5/10] - Test Loss: 1.1656 - Test Accuracy: 58.33%\n"
          ]
        },
        {
          "name": "stderr",
          "output_type": "stream",
          "text": [
            "Epoch 6/10 - Training: 100%|██████████████████| 391/391 [00:42<00:00,  9.12it/s, acc=60.4, loss=1.1]\n"
          ]
        },
        {
          "name": "stdout",
          "output_type": "stream",
          "text": [
            "Epoch [6/10] - Train Loss: 1.1026 - Train Accuracy: 60.40%\n",
            "Epoch [6/10] - Test Loss: 1.0957 - Test Accuracy: 59.53%\n"
          ]
        },
        {
          "name": "stderr",
          "output_type": "stream",
          "text": [
            "Epoch 7/10 - Training: 100%|█████████████████| 391/391 [00:42<00:00,  9.12it/s, acc=61.9, loss=1.06]\n"
          ]
        },
        {
          "name": "stdout",
          "output_type": "stream",
          "text": [
            "Epoch [7/10] - Train Loss: 1.0593 - Train Accuracy: 61.90%\n",
            "Epoch [7/10] - Test Loss: 1.0596 - Test Accuracy: 62.33%\n"
          ]
        },
        {
          "name": "stderr",
          "output_type": "stream",
          "text": [
            "Epoch 8/10 - Training: 100%|█████████████████| 391/391 [00:42<00:00,  9.19it/s, acc=63.3, loss=1.02]\n"
          ]
        },
        {
          "name": "stdout",
          "output_type": "stream",
          "text": [
            "Epoch [8/10] - Train Loss: 1.0243 - Train Accuracy: 63.33%\n",
            "Epoch [8/10] - Test Loss: 1.0091 - Test Accuracy: 64.05%\n"
          ]
        },
        {
          "name": "stderr",
          "output_type": "stream",
          "text": [
            "Epoch 9/10 - Training: 100%|████████████████| 391/391 [00:44<00:00,  8.83it/s, acc=64.8, loss=0.986]\n"
          ]
        },
        {
          "name": "stdout",
          "output_type": "stream",
          "text": [
            "Epoch [9/10] - Train Loss: 0.9858 - Train Accuracy: 64.82%\n",
            "Epoch [9/10] - Test Loss: 1.0201 - Test Accuracy: 63.74%\n"
          ]
        },
        {
          "name": "stderr",
          "output_type": "stream",
          "text": [
            "Epoch 10/10 - Training: 100%|███████████████| 391/391 [00:44<00:00,  8.78it/s, acc=65.5, loss=0.961]\n"
          ]
        },
        {
          "name": "stdout",
          "output_type": "stream",
          "text": [
            "Epoch [10/10] - Train Loss: 0.9614 - Train Accuracy: 65.52%\n",
            "Epoch [10/10] - Test Loss: 0.9724 - Test Accuracy: 65.21%\n",
            "\n",
            "Training completed!\n",
            "Final Training Accuracy: 65.52%\n",
            "Final Test Accuracy: 65.21%\n"
          ]
        },
        {
          "data": {
            "text/html": [],
            "text/plain": [
              "<IPython.core.display.HTML object>"
            ]
          },
          "metadata": {},
          "output_type": "display_data"
        },
        {
          "data": {
            "text/html": [
              "<br>    <style><br>        .wandb-row {<br>            display: flex;<br>            flex-direction: row;<br>            flex-wrap: wrap;<br>            justify-content: flex-start;<br>            width: 100%;<br>        }<br>        .wandb-col {<br>            display: flex;<br>            flex-direction: column;<br>            flex-basis: 100%;<br>            flex: 1;<br>            padding: 10px;<br>        }<br>    </style><br><div class=\"wandb-row\"><div class=\"wandb-col\"><h3>Run history:</h3><br/><table class=\"wandb\"><tr><td>epoch</td><td>▁</td></tr><tr><td>eval_accuracy</td><td>▁</td></tr><tr><td>eval_loss</td><td>▁</td></tr><tr><td>train_accuracy</td><td>▁</td></tr><tr><td>train_batch_accuracy</td><td>▁▁▂▂▂▃▃▃▃▅▅▆▆▆▆▆▆▆▆▆▆▆▇▇▇▇▇▇▇▇▇▇████████</td></tr><tr><td>train_batch_loss</td><td>█▇▇▆▄▄▄▄▄▄▄▄▄▃▃▃▃▄▂▃▃▃▃▄▄▃▂▄▃▃▃▂▃▂▃▁▂▃▁▂</td></tr><tr><td>train_loss</td><td>▁</td></tr></table><br/></div><div class=\"wandb-col\"><h3>Run summary:</h3><br/><table class=\"wandb\"><tr><td>epoch</td><td>9</td></tr><tr><td>eval_accuracy</td><td>65.21</td></tr><tr><td>eval_loss</td><td>0.97236</td></tr><tr><td>train_accuracy</td><td>0.65522</td></tr><tr><td>train_batch_accuracy</td><td>0.65522</td></tr><tr><td>train_batch_loss</td><td>0.85819</td></tr><tr><td>train_loss</td><td>0.96135</td></tr></table><br/></div></div>"
            ],
            "text/plain": [
              "<IPython.core.display.HTML object>"
            ]
          },
          "metadata": {},
          "output_type": "display_data"
        },
        {
          "data": {
            "text/html": [
              " View run <strong style=\"color:#cdcd00\">dandy-capybara-1</strong> at: <a href='https://wandb.ai/ankitbon666/ViT-2.0/runs/s1hyxffo' target=\"_blank\">https://wandb.ai/ankitbon666/ViT-2.0/runs/s1hyxffo</a><br> View project at: <a href='https://wandb.ai/ankitbon666/ViT-2.0' target=\"_blank\">https://wandb.ai/ankitbon666/ViT-2.0</a><br>Synced 5 W&B file(s), 0 media file(s), 0 artifact file(s) and 0 other file(s)"
            ],
            "text/plain": [
              "<IPython.core.display.HTML object>"
            ]
          },
          "metadata": {},
          "output_type": "display_data"
        },
        {
          "data": {
            "text/html": [
              "Find logs at: <code>./wandb/run-20250401_054805-s1hyxffo/logs</code>"
            ],
            "text/plain": [
              "<IPython.core.display.HTML object>"
            ]
          },
          "metadata": {},
          "output_type": "display_data"
        }
      ],
      "source": [
        "try:\n",
        "    no_improve_count = 0\n",
        "    prev_train_loss = float('inf')\n",
        "    for epoch in range(10):\n",
        "        model.train()\n",
        "        running_loss = 0.0\n",
        "        all_train_labels = []\n",
        "        all_train_preds = []\n",
        "        train_bar = tqdm(trainloader, desc=f'Epoch {epoch + 1}/{num_epochs} - Training', ncols=100)\n",
        "\n",
        "        for batch_idx, (inputs, labels) in enumerate(train_bar):\n",
        "            inputs, labels = inputs.to('cuda'), labels.to('cuda')\n",
        "\n",
        "            optimizer.zero_grad()\n",
        "\n",
        "\n",
        "            outputs = model(inputs)\n",
        "            loss = criterion(outputs, labels)\n",
        "            loss.backward()\n",
        "            optimizer.step()\n",
        "\n",
        "            _, predicted = torch.max(outputs.data, 1)\n",
        "            all_train_labels.extend(labels.cpu().numpy())\n",
        "            all_train_preds.extend(predicted.cpu().numpy())\n",
        "\n",
        "            running_loss += loss.item()\n",
        "            train_accuracy = accuracy_score(all_train_labels, all_train_preds) * 100\n",
        "            train_bar.set_postfix(loss=running_loss / (batch_idx + 1), acc=train_accuracy)\n",
        "        epoch_train_loss = running_loss / len(trainloader)\n",
        "        epoch_train_acc = accuracy_score(all_train_labels, all_train_preds) * 100\n",
        "        train_losses.append(epoch_train_loss)\n",
        "        train_accs.append(epoch_train_acc)\n",
        "        if epoch_train_loss < prev_train_loss:\n",
        "            prev_train_loss = epoch_train_loss\n",
        "            no_improve_count = 0\n",
        "        else:\n",
        "            no_improve_count += 1\n",
        "\n",
        "        if no_improve_count > 5:\n",
        "            print(f\"Training stopped early at epoch {epoch + 1} due to no improvement in training loss.\")\n",
        "            break\n",
        "\n",
        "        model.eval()\n",
        "        all_test_labels = []\n",
        "        all_test_preds = []\n",
        "        running_test_loss = 0.0\n",
        "\n",
        "        with torch.no_grad():\n",
        "            for inputs, labels in testloader:\n",
        "                inputs, labels = inputs.to('cuda'), labels.to('cuda')\n",
        "                outputs = model(inputs)\n",
        "                loss = criterion(outputs, labels)\n",
        "\n",
        "                running_test_loss += loss.item()\n",
        "                _, predicted = torch.max(outputs.data, 1)\n",
        "                all_test_labels.extend(labels.cpu().numpy())\n",
        "                all_test_preds.extend(predicted.cpu().numpy())\n",
        "\n",
        "        epoch_test_loss = running_test_loss / len(testloader)\n",
        "        epoch_test_acc = accuracy_score(all_test_labels, all_test_preds) * 100\n",
        "        test_losses.append(epoch_test_loss)\n",
        "        test_accs.append(epoch_test_acc)\n",
        "\n",
        "        print(f'Epoch [{epoch + 1}/{num_epochs}] - Train Loss: {epoch_train_loss:.4f} - Train Accuracy: {epoch_train_acc:.2f}%')\n",
        "        print(f'Epoch [{epoch + 1}/{num_epochs}] - Test Loss: {epoch_test_loss:.4f} - Test Accuracy: {epoch_test_acc:.2f}%')\n",
        "\n",
        "    print(\"\\nTraining completed!\")\n",
        "    print(f\"Final Training Accuracy: {train_accs[-1]:.2f}%\")\n",
        "    print(f\"Final Test Accuracy: {test_accs[-1]:.2f}%\")\n",
        "\n",
        "\n",
        "except KeyboardInterrupt:\n",
        "    handle_interrupt()"
      ]
    },
    {
      "cell_type": "code",
      "execution_count": 15,
      "metadata": {
        "id": "23lKSgx0787F"
      },
      "outputs": [],
      "source": [
        "model = ViT(\n",
        "    image_size=32,\n",
        "    in_channels=3,\n",
        "    patch_size=4,\n",
        "    num_transformer_layers=20,\n",
        "    embedding_dim=64,\n",
        "    mlp_size=128,\n",
        "    num_heads=4,\n",
        "    attention_dropout=0.1,\n",
        "    mlp_dropout=0.2,\n",
        "    embedding_dropout=0.1,\n",
        "    num_classes=10\n",
        ").cuda()\n",
        "\n",
        "criterion = nn.CrossEntropyLoss()\n",
        "optimizer = optim.Adam(model.parameters(), lr=0.001)\n",
        "num_epochs = 15"
      ]
    },
    {
      "cell_type": "code",
      "execution_count": null,
      "metadata": {
        "colab": {
          "base_uri": "https://localhost:8080/",
          "height": 1000
        },
        "id": "6DVolWt4bVyK",
        "outputId": "5f68d32f-83a2-4966-e7d1-7b9ec7ddf6ff"
      },
      "outputs": [
        {
          "name": "stderr",
          "output_type": "stream",
          "text": [
            "Epoch 1/15 - Training: 100%|██████████████████| 391/391 [00:45<00:00,  8.54it/s, acc=33.6, loss=1.8]\n"
          ]
        },
        {
          "name": "stdout",
          "output_type": "stream",
          "text": [
            "Epoch [1/15] - Train Loss: 1.7959 - Train Accuracy: 33.59%\n",
            "Epoch [1/15] - Test Loss: 1.4735 - Test Accuracy: 47.44%\n"
          ]
        },
        {
          "name": "stderr",
          "output_type": "stream",
          "text": [
            "Epoch 2/15 - Training: 100%|█████████████████| 391/391 [00:43<00:00,  8.91it/s, acc=47.6, loss=1.44]\n"
          ]
        },
        {
          "name": "stdout",
          "output_type": "stream",
          "text": [
            "Epoch [2/15] - Train Loss: 1.4444 - Train Accuracy: 47.56%\n",
            "Epoch [2/15] - Test Loss: 1.3469 - Test Accuracy: 51.18%\n"
          ]
        },
        {
          "name": "stderr",
          "output_type": "stream",
          "text": [
            "Epoch 3/15 - Training: 100%|█████████████████| 391/391 [00:42<00:00,  9.10it/s, acc=52.5, loss=1.32]\n"
          ]
        },
        {
          "name": "stdout",
          "output_type": "stream",
          "text": [
            "Epoch [3/15] - Train Loss: 1.3178 - Train Accuracy: 52.46%\n",
            "Epoch [3/15] - Test Loss: 1.2398 - Test Accuracy: 55.22%\n"
          ]
        },
        {
          "name": "stderr",
          "output_type": "stream",
          "text": [
            "Epoch 4/15 - Training: 100%|█████████████████| 391/391 [00:45<00:00,  8.62it/s, acc=55.7, loss=1.23]\n"
          ]
        },
        {
          "name": "stdout",
          "output_type": "stream",
          "text": [
            "Epoch [4/15] - Train Loss: 1.2269 - Train Accuracy: 55.72%\n",
            "Epoch [4/15] - Test Loss: 1.1576 - Test Accuracy: 58.20%\n"
          ]
        },
        {
          "name": "stderr",
          "output_type": "stream",
          "text": [
            "Epoch 5/15 - Training: 100%|█████████████████| 391/391 [00:43<00:00,  8.90it/s, acc=58.1, loss=1.17]\n"
          ]
        },
        {
          "name": "stdout",
          "output_type": "stream",
          "text": [
            "Epoch [5/15] - Train Loss: 1.1660 - Train Accuracy: 58.14%\n",
            "Epoch [5/15] - Test Loss: 1.1585 - Test Accuracy: 58.39%\n"
          ]
        },
        {
          "name": "stderr",
          "output_type": "stream",
          "text": [
            "Epoch 6/15 - Training: 100%|█████████████████| 391/391 [00:42<00:00,  9.12it/s, acc=60.1, loss=1.11]\n"
          ]
        },
        {
          "name": "stdout",
          "output_type": "stream",
          "text": [
            "Epoch [6/15] - Train Loss: 1.1133 - Train Accuracy: 60.12%\n",
            "Epoch [6/15] - Test Loss: 1.0773 - Test Accuracy: 60.84%\n"
          ]
        },
        {
          "name": "stderr",
          "output_type": "stream",
          "text": [
            "Epoch 7/15 - Training: 100%|█████████████████| 391/391 [00:42<00:00,  9.12it/s, acc=62.1, loss=1.06]\n"
          ]
        },
        {
          "name": "stdout",
          "output_type": "stream",
          "text": [
            "Epoch [7/15] - Train Loss: 1.0633 - Train Accuracy: 62.08%\n",
            "Epoch [7/15] - Test Loss: 1.0899 - Test Accuracy: 60.94%\n"
          ]
        },
        {
          "name": "stderr",
          "output_type": "stream",
          "text": [
            "Epoch 8/15 - Training: 100%|█████████████████| 391/391 [00:43<00:00,  8.96it/s, acc=63.2, loss=1.03]\n"
          ]
        },
        {
          "name": "stdout",
          "output_type": "stream",
          "text": [
            "Epoch [8/15] - Train Loss: 1.0330 - Train Accuracy: 63.20%\n",
            "Epoch [8/15] - Test Loss: 1.0411 - Test Accuracy: 62.94%\n"
          ]
        },
        {
          "name": "stderr",
          "output_type": "stream",
          "text": [
            "Epoch 9/15 - Training: 100%|████████████████| 391/391 [00:43<00:00,  9.09it/s, acc=64.2, loss=0.999]\n"
          ]
        },
        {
          "name": "stdout",
          "output_type": "stream",
          "text": [
            "Epoch [9/15] - Train Loss: 0.9987 - Train Accuracy: 64.18%\n",
            "Epoch [9/15] - Test Loss: 1.0108 - Test Accuracy: 63.57%\n"
          ]
        },
        {
          "name": "stderr",
          "output_type": "stream",
          "text": [
            "Epoch 10/15 - Training: 100%|████████████████| 391/391 [00:42<00:00,  9.19it/s, acc=65.8, loss=0.96]\n"
          ]
        },
        {
          "name": "stdout",
          "output_type": "stream",
          "text": [
            "Epoch [10/15] - Train Loss: 0.9603 - Train Accuracy: 65.83%\n",
            "Epoch [10/15] - Test Loss: 1.0013 - Test Accuracy: 64.14%\n"
          ]
        },
        {
          "name": "stderr",
          "output_type": "stream",
          "text": [
            "Epoch 11/15 - Training: 100%|████████████████| 391/391 [00:43<00:00,  9.02it/s, acc=66.5, loss=0.94]\n"
          ]
        },
        {
          "name": "stdout",
          "output_type": "stream",
          "text": [
            "Epoch [11/15] - Train Loss: 0.9402 - Train Accuracy: 66.46%\n",
            "Epoch [11/15] - Test Loss: 0.9967 - Test Accuracy: 64.09%\n"
          ]
        },
        {
          "name": "stderr",
          "output_type": "stream",
          "text": [
            "Epoch 12/15 - Training: 100%|███████████████| 391/391 [00:44<00:00,  8.81it/s, acc=67.7, loss=0.907]\n"
          ]
        },
        {
          "name": "stdout",
          "output_type": "stream",
          "text": [
            "Epoch [12/15] - Train Loss: 0.9072 - Train Accuracy: 67.66%\n",
            "Epoch [12/15] - Test Loss: 0.9682 - Test Accuracy: 65.63%\n"
          ]
        },
        {
          "name": "stderr",
          "output_type": "stream",
          "text": [
            "Epoch 13/15 - Training: 100%|████████████████| 391/391 [00:44<00:00,  8.88it/s, acc=68.8, loss=0.88]\n"
          ]
        },
        {
          "name": "stdout",
          "output_type": "stream",
          "text": [
            "Epoch [13/15] - Train Loss: 0.8803 - Train Accuracy: 68.75%\n",
            "Epoch [13/15] - Test Loss: 0.9680 - Test Accuracy: 66.02%\n"
          ]
        },
        {
          "name": "stderr",
          "output_type": "stream",
          "text": [
            "Epoch 14/15 - Training: 100%|███████████████| 391/391 [00:43<00:00,  9.06it/s, acc=69.7, loss=0.857]\n"
          ]
        },
        {
          "name": "stdout",
          "output_type": "stream",
          "text": [
            "Epoch [14/15] - Train Loss: 0.8574 - Train Accuracy: 69.73%\n",
            "Epoch [14/15] - Test Loss: 0.9346 - Test Accuracy: 66.60%\n"
          ]
        },
        {
          "name": "stderr",
          "output_type": "stream",
          "text": [
            "Epoch 15/15 - Training: 100%|███████████████| 391/391 [00:42<00:00,  9.12it/s, acc=70.2, loss=0.837]\n"
          ]
        },
        {
          "name": "stdout",
          "output_type": "stream",
          "text": [
            "Epoch [15/15] - Train Loss: 0.8369 - Train Accuracy: 70.20%\n",
            "Epoch [15/15] - Test Loss: 0.9363 - Test Accuracy: 66.67%\n",
            "\n",
            "Training completed!\n",
            "Final Training Accuracy: 70.20%\n",
            "Final Test Accuracy: 66.67%\n"
          ]
        },
        {
          "data": {
            "text/html": [],
            "text/plain": [
              "<IPython.core.display.HTML object>"
            ]
          },
          "metadata": {},
          "output_type": "display_data"
        },
        {
          "data": {
            "text/html": [
              "<br>    <style><br>        .wandb-row {<br>            display: flex;<br>            flex-direction: row;<br>            flex-wrap: wrap;<br>            justify-content: flex-start;<br>            width: 100%;<br>        }<br>        .wandb-col {<br>            display: flex;<br>            flex-direction: column;<br>            flex-basis: 100%;<br>            flex: 1;<br>            padding: 10px;<br>        }<br>    </style><br><div class=\"wandb-row\"><div class=\"wandb-col\"><h3>Run history:</h3><br/><table class=\"wandb\"><tr><td>epoch</td><td>▁</td></tr><tr><td>eval_accuracy</td><td>▁</td></tr><tr><td>eval_loss</td><td>▁</td></tr><tr><td>train_accuracy</td><td>▁</td></tr><tr><td>train_batch_accuracy</td><td>▁▂▂▃▅▅▅▅▅▆▆▆▆▆▆▆▆▆▆▆▇▆▇▇▇▇▇▇▇▇▇▇▇▇██████</td></tr><tr><td>train_batch_loss</td><td>█▆▇▇▆▅▅▄▄▄▃▄▄▃▃▃▃▃▄▃▃▃▂▂▂▃▁▃▂▃▂▁▂▁▂▁▂▂▂▁</td></tr><tr><td>train_loss</td><td>▁</td></tr></table><br/></div><div class=\"wandb-col\"><h3>Run summary:</h3><br/><table class=\"wandb\"><tr><td>epoch</td><td>14</td></tr><tr><td>eval_accuracy</td><td>66.67</td></tr><tr><td>eval_loss</td><td>0.9363</td></tr><tr><td>train_accuracy</td><td>0.70196</td></tr><tr><td>train_batch_accuracy</td><td>0.70196</td></tr><tr><td>train_batch_loss</td><td>0.84618</td></tr><tr><td>train_loss</td><td>0.83694</td></tr></table><br/></div></div>"
            ],
            "text/plain": [
              "<IPython.core.display.HTML object>"
            ]
          },
          "metadata": {},
          "output_type": "display_data"
        },
        {
          "data": {
            "text/html": [
              " View run <strong style=\"color:#cdcd00\">stellar-capybara-2</strong> at: <a href='https://wandb.ai/ankitbon666/ViT-2.0/runs/h0hlttxl' target=\"_blank\">https://wandb.ai/ankitbon666/ViT-2.0/runs/h0hlttxl</a><br> View project at: <a href='https://wandb.ai/ankitbon666/ViT-2.0' target=\"_blank\">https://wandb.ai/ankitbon666/ViT-2.0</a><br>Synced 5 W&B file(s), 0 media file(s), 0 artifact file(s) and 0 other file(s)"
            ],
            "text/plain": [
              "<IPython.core.display.HTML object>"
            ]
          },
          "metadata": {},
          "output_type": "display_data"
        },
        {
          "data": {
            "text/html": [
              "Find logs at: <code>./wandb/run-20250401_060045-h0hlttxl/logs</code>"
            ],
            "text/plain": [
              "<IPython.core.display.HTML object>"
            ]
          },
          "metadata": {},
          "output_type": "display_data"
        }
      ],
      "source": [
        "try:\n",
        "    no_improve_count = 0\n",
        "    prev_train_loss = float('inf')\n",
        "    for epoch in range(15):\n",
        "        model.train()\n",
        "        running_loss = 0.0\n",
        "        all_train_labels = []\n",
        "        all_train_preds = []\n",
        "        train_bar = tqdm(trainloader, desc=f'Epoch {epoch + 1}/{num_epochs} - Training', ncols=100)\n",
        "\n",
        "        for batch_idx, (inputs, labels) in enumerate(train_bar):\n",
        "            inputs, labels = inputs.to('cuda'), labels.to('cuda')\n",
        "\n",
        "            optimizer.zero_grad()\n",
        "\n",
        "\n",
        "            outputs = model(inputs)\n",
        "            loss = criterion(outputs, labels)\n",
        "            loss.backward()\n",
        "            optimizer.step()\n",
        "\n",
        "            _, predicted = torch.max(outputs.data, 1)\n",
        "            all_train_labels.extend(labels.cpu().numpy())\n",
        "            all_train_preds.extend(predicted.cpu().numpy())\n",
        "            # print(\"\\nFirst 10 train labels:\", list(all_train_labels[:10]))\n",
        "            # print(\"\\nFirst 10 train predictions:\", list(all_train_preds[:10]))\n",
        "\n",
        "            running_loss += loss.item()\n",
        "            train_accuracy = accuracy_score(all_train_labels, all_train_preds) * 100\n",
        "            train_bar.set_postfix(loss=running_loss / (batch_idx + 1), acc=train_accuracy)\n",
        "\n",
        "        epoch_train_loss = running_loss / len(trainloader)\n",
        "        epoch_train_acc = accuracy_score(all_train_labels, all_train_preds) * 100\n",
        "        train_losses.append(epoch_train_loss)\n",
        "        train_accs.append(epoch_train_acc)\n",
        "        if epoch_train_loss < prev_train_loss:\n",
        "            prev_train_loss = epoch_train_loss\n",
        "            no_improve_count = 0\n",
        "        else:\n",
        "            no_improve_count += 1\n",
        "\n",
        "        if no_improve_count > 5:\n",
        "            print(f\"Training stopped early at epoch {epoch + 1} due to no improvement in training loss.\")\n",
        "            break\n",
        "\n",
        "        model.eval()\n",
        "        all_test_labels = []\n",
        "        all_test_preds = []\n",
        "        running_test_loss = 0.0\n",
        "\n",
        "        with torch.no_grad():\n",
        "            for inputs, labels in testloader:\n",
        "                inputs, labels = inputs.to('cuda'), labels.to('cuda')\n",
        "                outputs = model(inputs)\n",
        "                loss = criterion(outputs, labels)\n",
        "\n",
        "                running_test_loss += loss.item()\n",
        "                _, predicted = torch.max(outputs.data, 1)\n",
        "                all_test_labels.extend(labels.cpu().numpy())\n",
        "                all_test_preds.extend(predicted.cpu().numpy())\n",
        "\n",
        "        epoch_test_loss = running_test_loss / len(testloader)\n",
        "        epoch_test_acc = accuracy_score(all_test_labels, all_test_preds) * 100\n",
        "        test_losses.append(epoch_test_loss)\n",
        "        test_accs.append(epoch_test_acc)\n",
        "\n",
        "        print(f'Epoch [{epoch + 1}/{num_epochs}] - Train Loss: {epoch_train_loss:.4f} - Train Accuracy: {epoch_train_acc:.2f}%')\n",
        "        print(f'Epoch [{epoch + 1}/{num_epochs}] - Test Loss: {epoch_test_loss:.4f} - Test Accuracy: {epoch_test_acc:.2f}%')\n",
        "\n",
        "    print(\"\\nTraining completed!\")\n",
        "    print(f\"Final Training Accuracy: {train_accs[-1]:.2f}%\")\n",
        "    print(f\"Final Test Accuracy: {test_accs[-1]:.2f}%\")\n",
        "\n",
        "\n",
        "except KeyboardInterrupt:\n",
        "    handle_interrupt()"
      ]
    },
    {
      "cell_type": "code",
      "execution_count": 17,
      "metadata": {
        "colab": {
          "base_uri": "https://localhost:8080/",
          "height": 449
        },
        "id": "S9a9tZsp9dGN",
        "outputId": "a7628f8b-0339-4499-cbc0-ac7ea2ef3da8"
      },
      "outputs": [
        {
          "data": {
            "image/png": "[encoded data removed]",
            "text/plain": [
              "<Figure size 640x480 with 1 Axes>"
            ]
          },
          "metadata": {},
          "output_type": "display_data"
        }
      ],
      "source": [
        "epochs = np.arange(1, num_epochs+1)\n",
        "import matplotlib.pyplot as plt\n",
        "\n",
        "plt.figure()\n",
        "plt.plot(epochs, train_accs, label='Training Accuracy')\n",
        "plt.plot(epochs, test_accs, label='Test Accuracy')\n",
        "plt.xlabel('Epochs')\n",
        "plt.ylabel('Accuracy')\n",
        "plt.legend()\n",
        "plt.show()"
      ]
    },
    {
      "cell_type": "code",
      "execution_count": 18,
      "metadata": {
        "colab": {
          "base_uri": "https://localhost:8080/",
          "height": 449
        },
        "id": "fG6K1qET9rwc",
        "outputId": "21b121ad-409d-4d68-82de-00545e5b7c6c"
      },
      "outputs": [
        {
          "data": {
            "image/png": "[encoded data removed]",
            "text/plain": [
              "<Figure size 640x480 with 1 Axes>"
            ]
          },
          "metadata": {},
          "output_type": "display_data"
        }
      ],
      "source": [
        "plt.figure()\n",
        "plt.plot(epochs, train_losses, label='Training Loss')\n",
        "plt.plot(epochs, test_losses, label='Test Loss')\n",
        "plt.xlabel('Epochs')\n",
        "plt.ylabel('Loss')\n",
        "plt.legend()\n",
        "plt.show()"
      ]
    },
    {
      "cell_type": "code",
      "execution_count": null,
      "metadata": {
        "id": "TRygesjG3ubX"
      },
      "outputs": [],
      "source": [
        "import os\n",
        "if os.path.exists('/content/drive/MyDrive/vit') == False:\n",
        "  os.mkdir('/content/drive/MyDrive/vit')"
      ]
    },
    {
      "cell_type": "code",
      "execution_count": null,
      "metadata": {
        "id": "RhUnj0To3cF5"
      },
      "outputs": [],
      "source": [
        "torch.save(model.cpu().state_dict(), 'model_saved_71_acc_vit.pth')"
      ]
    },
    {
      "cell_type": "code",
      "execution_count": 19,
      "metadata": {
        "colab": {
          "base_uri": "https://localhost:8080/"
        },
        "id": "LAtb-38kdQ6Q",
        "outputId": "9694d66e-25e5-43fa-ad8a-6525939155f0"
      },
      "outputs": [
        {
          "data": {
            "text/plain": [
              "ViT(\n",
              "  (embedding_dropout): Dropout(p=0.1, inplace=False)\n",
              "  (patch_embedding): PatchEmbedding(\n",
              "    (patcher): Conv2d(3, 64, kernel_size=(4, 4), stride=(4, 4))\n",
              "    (flatten): Flatten(start_dim=2, end_dim=3)\n",
              "  )\n",
              "  (transformerEncoderBlock): Sequential(\n",
              "    (0): TransformerEncoderBlock(\n",
              "      (MSABlock): MultiHeadSelfAttention(\n",
              "        (layer_norm): LayerNorm((64,), eps=1e-05, elementwise_affine=True)\n",
              "        (multi_head_attention): MultiheadAttention(\n",
              "          (out_proj): NonDynamicallyQuantizableLinear(in_features=64, out_features=64, bias=True)\n",
              "        )\n",
              "      )\n",
              "      (MLPBlock): MLPBlock(\n",
              "        (layer): LayerNorm((64,), eps=1e-05, elementwise_affine=True)\n",
              "        (mlp): Sequential(\n",
              "          (0): Linear(in_features=64, out_features=128, bias=True)\n",
              "          (1): GELU(approximate='none')\n",
              "          (2): Dropout(p=0.2, inplace=False)\n",
              "          (3): Linear(in_features=128, out_features=64, bias=True)\n",
              "          (4): Dropout(p=0.2, inplace=False)\n",
              "        )\n",
              "      )\n",
              "    )\n",
              "    (1): TransformerEncoderBlock(\n",
              "      (MSABlock): MultiHeadSelfAttention(\n",
              "        (layer_norm): LayerNorm((64,), eps=1e-05, elementwise_affine=True)\n",
              "        (multi_head_attention): MultiheadAttention(\n",
              "          (out_proj): NonDynamicallyQuantizableLinear(in_features=64, out_features=64, bias=True)\n",
              "        )\n",
              "      )\n",
              "      (MLPBlock): MLPBlock(\n",
              "        (layer): LayerNorm((64,), eps=1e-05, elementwise_affine=True)\n",
              "        (mlp): Sequential(\n",
              "          (0): Linear(in_features=64, out_features=128, bias=True)\n",
              "          (1): GELU(approximate='none')\n",
              "          (2): Dropout(p=0.2, inplace=False)\n",
              "          (3): Linear(in_features=128, out_features=64, bias=True)\n",
              "          (4): Dropout(p=0.2, inplace=False)\n",
              "        )\n",
              "      )\n",
              "    )\n",
              "    (2): TransformerEncoderBlock(\n",
              "      (MSABlock): MultiHeadSelfAttention(\n",
              "        (layer_norm): LayerNorm((64,), eps=1e-05, elementwise_affine=True)\n",
              "        (multi_head_attention): MultiheadAttention(\n",
              "          (out_proj): NonDynamicallyQuantizableLinear(in_features=64, out_features=64, bias=True)\n",
              "        )\n",
              "      )\n",
              "      (MLPBlock): MLPBlock(\n",
              "        (layer): LayerNorm((64,), eps=1e-05, elementwise_affine=True)\n",
              "        (mlp): Sequential(\n",
              "          (0): Linear(in_features=64, out_features=128, bias=True)\n",
              "          (1): GELU(approximate='none')\n",
              "          (2): Dropout(p=0.2, inplace=False)\n",
              "          (3): Linear(in_features=128, out_features=64, bias=True)\n",
              "          (4): Dropout(p=0.2, inplace=False)\n",
              "        )\n",
              "      )\n",
              "    )\n",
              "    (3): TransformerEncoderBlock(\n",
              "      (MSABlock): MultiHeadSelfAttention(\n",
              "        (layer_norm): LayerNorm((64,), eps=1e-05, elementwise_affine=True)\n",
              "        (multi_head_attention): MultiheadAttention(\n",
              "          (out_proj): NonDynamicallyQuantizableLinear(in_features=64, out_features=64, bias=True)\n",
              "        )\n",
              "      )\n",
              "      (MLPBlock): MLPBlock(\n",
              "        (layer): LayerNorm((64,), eps=1e-05, elementwise_affine=True)\n",
              "        (mlp): Sequential(\n",
              "          (0): Linear(in_features=64, out_features=128, bias=True)\n",
              "          (1): GELU(approximate='none')\n",
              "          (2): Dropout(p=0.2, inplace=False)\n",
              "          (3): Linear(in_features=128, out_features=64, bias=True)\n",
              "          (4): Dropout(p=0.2, inplace=False)\n",
              "        )\n",
              "      )\n",
              "    )\n",
              "    (4): TransformerEncoderBlock(\n",
              "      (MSABlock): MultiHeadSelfAttention(\n",
              "        (layer_norm): LayerNorm((64,), eps=1e-05, elementwise_affine=True)\n",
              "        (multi_head_attention): MultiheadAttention(\n",
              "          (out_proj): NonDynamicallyQuantizableLinear(in_features=64, out_features=64, bias=True)\n",
              "        )\n",
              "      )\n",
              "      (MLPBlock): MLPBlock(\n",
              "        (layer): LayerNorm((64,), eps=1e-05, elementwise_affine=True)\n",
              "        (mlp): Sequential(\n",
              "          (0): Linear(in_features=64, out_features=128, bias=True)\n",
              "          (1): GELU(approximate='none')\n",
              "          (2): Dropout(p=0.2, inplace=False)\n",
              "          (3): Linear(in_features=128, out_features=64, bias=True)\n",
              "          (4): Dropout(p=0.2, inplace=False)\n",
              "        )\n",
              "      )\n",
              "    )\n",
              "    (5): TransformerEncoderBlock(\n",
              "      (MSABlock): MultiHeadSelfAttention(\n",
              "        (layer_norm): LayerNorm((64,), eps=1e-05, elementwise_affine=True)\n",
              "        (multi_head_attention): MultiheadAttention(\n",
              "          (out_proj): NonDynamicallyQuantizableLinear(in_features=64, out_features=64, bias=True)\n",
              "        )\n",
              "      )\n",
              "      (MLPBlock): MLPBlock(\n",
              "        (layer): LayerNorm((64,), eps=1e-05, elementwise_affine=True)\n",
              "        (mlp): Sequential(\n",
              "          (0): Linear(in_features=64, out_features=128, bias=True)\n",
              "          (1): GELU(approximate='none')\n",
              "          (2): Dropout(p=0.2, inplace=False)\n",
              "          (3): Linear(in_features=128, out_features=64, bias=True)\n",
              "          (4): Dropout(p=0.2, inplace=False)\n",
              "        )\n",
              "      )\n",
              "    )\n",
              "    (6): TransformerEncoderBlock(\n",
              "      (MSABlock): MultiHeadSelfAttention(\n",
              "        (layer_norm): LayerNorm((64,), eps=1e-05, elementwise_affine=True)\n",
              "        (multi_head_attention): MultiheadAttention(\n",
              "          (out_proj): NonDynamicallyQuantizableLinear(in_features=64, out_features=64, bias=True)\n",
              "        )\n",
              "      )\n",
              "      (MLPBlock): MLPBlock(\n",
              "        (layer): LayerNorm((64,), eps=1e-05, elementwise_affine=True)\n",
              "        (mlp): Sequential(\n",
              "          (0): Linear(in_features=64, out_features=128, bias=True)\n",
              "          (1): GELU(approximate='none')\n",
              "          (2): Dropout(p=0.2, inplace=False)\n",
              "          (3): Linear(in_features=128, out_features=64, bias=True)\n",
              "          (4): Dropout(p=0.2, inplace=False)\n",
              "        )\n",
              "      )\n",
              "    )\n",
              "    (7): TransformerEncoderBlock(\n",
              "      (MSABlock): MultiHeadSelfAttention(\n",
              "        (layer_norm): LayerNorm((64,), eps=1e-05, elementwise_affine=True)\n",
              "        (multi_head_attention): MultiheadAttention(\n",
              "          (out_proj): NonDynamicallyQuantizableLinear(in_features=64, out_features=64, bias=True)\n",
              "        )\n",
              "      )\n",
              "      (MLPBlock): MLPBlock(\n",
              "        (layer): LayerNorm((64,), eps=1e-05, elementwise_affine=True)\n",
              "        (mlp): Sequential(\n",
              "          (0): Linear(in_features=64, out_features=128, bias=True)\n",
              "          (1): GELU(approximate='none')\n",
              "          (2): Dropout(p=0.2, inplace=False)\n",
              "          (3): Linear(in_features=128, out_features=64, bias=True)\n",
              "          (4): Dropout(p=0.2, inplace=False)\n",
              "        )\n",
              "      )\n",
              "    )\n",
              "    (8): TransformerEncoderBlock(\n",
              "      (MSABlock): MultiHeadSelfAttention(\n",
              "        (layer_norm): LayerNorm((64,), eps=1e-05, elementwise_affine=True)\n",
              "        (multi_head_attention): MultiheadAttention(\n",
              "          (out_proj): NonDynamicallyQuantizableLinear(in_features=64, out_features=64, bias=True)\n",
              "        )\n",
              "      )\n",
              "      (MLPBlock): MLPBlock(\n",
              "        (layer): LayerNorm((64,), eps=1e-05, elementwise_affine=True)\n",
              "        (mlp): Sequential(\n",
              "          (0): Linear(in_features=64, out_features=128, bias=True)\n",
              "          (1): GELU(approximate='none')\n",
              "          (2): Dropout(p=0.2, inplace=False)\n",
              "          (3): Linear(in_features=128, out_features=64, bias=True)\n",
              "          (4): Dropout(p=0.2, inplace=False)\n",
              "        )\n",
              "      )\n",
              "    )\n",
              "    (9): TransformerEncoderBlock(\n",
              "      (MSABlock): MultiHeadSelfAttention(\n",
              "        (layer_norm): LayerNorm((64,), eps=1e-05, elementwise_affine=True)\n",
              "        (multi_head_attention): MultiheadAttention(\n",
              "          (out_proj): NonDynamicallyQuantizableLinear(in_features=64, out_features=64, bias=True)\n",
              "        )\n",
              "      )\n",
              "      (MLPBlock): MLPBlock(\n",
              "        (layer): LayerNorm((64,), eps=1e-05, elementwise_affine=True)\n",
              "        (mlp): Sequential(\n",
              "          (0): Linear(in_features=64, out_features=128, bias=True)\n",
              "          (1): GELU(approximate='none')\n",
              "          (2): Dropout(p=0.2, inplace=False)\n",
              "          (3): Linear(in_features=128, out_features=64, bias=True)\n",
              "          (4): Dropout(p=0.2, inplace=False)\n",
              "        )\n",
              "      )\n",
              "    )\n",
              "    (10): TransformerEncoderBlock(\n",
              "      (MSABlock): MultiHeadSelfAttention(\n",
              "        (layer_norm): LayerNorm((64,), eps=1e-05, elementwise_affine=True)\n",
              "        (multi_head_attention): MultiheadAttention(\n",
              "          (out_proj): NonDynamicallyQuantizableLinear(in_features=64, out_features=64, bias=True)\n",
              "        )\n",
              "      )\n",
              "      (MLPBlock): MLPBlock(\n",
              "        (layer): LayerNorm((64,), eps=1e-05, elementwise_affine=True)\n",
              "        (mlp): Sequential(\n",
              "          (0): Linear(in_features=64, out_features=128, bias=True)\n",
              "          (1): GELU(approximate='none')\n",
              "          (2): Dropout(p=0.2, inplace=False)\n",
              "          (3): Linear(in_features=128, out_features=64, bias=True)\n",
              "          (4): Dropout(p=0.2, inplace=False)\n",
              "        )\n",
              "      )\n",
              "    )\n",
              "    (11): TransformerEncoderBlock(\n",
              "      (MSABlock): MultiHeadSelfAttention(\n",
              "        (layer_norm): LayerNorm((64,), eps=1e-05, elementwise_affine=True)\n",
              "        (multi_head_attention): MultiheadAttention(\n",
              "          (out_proj): NonDynamicallyQuantizableLinear(in_features=64, out_features=64, bias=True)\n",
              "        )\n",
              "      )\n",
              "      (MLPBlock): MLPBlock(\n",
              "        (layer): LayerNorm((64,), eps=1e-05, elementwise_affine=True)\n",
              "        (mlp): Sequential(\n",
              "          (0): Linear(in_features=64, out_features=128, bias=True)\n",
              "          (1): GELU(approximate='none')\n",
              "          (2): Dropout(p=0.2, inplace=False)\n",
              "          (3): Linear(in_features=128, out_features=64, bias=True)\n",
              "          (4): Dropout(p=0.2, inplace=False)\n",
              "        )\n",
              "      )\n",
              "    )\n",
              "    (12): TransformerEncoderBlock(\n",
              "      (MSABlock): MultiHeadSelfAttention(\n",
              "        (layer_norm): LayerNorm((64,), eps=1e-05, elementwise_affine=True)\n",
              "        (multi_head_attention): MultiheadAttention(\n",
              "          (out_proj): NonDynamicallyQuantizableLinear(in_features=64, out_features=64, bias=True)\n",
              "        )\n",
              "      )\n",
              "      (MLPBlock): MLPBlock(\n",
              "        (layer): LayerNorm((64,), eps=1e-05, elementwise_affine=True)\n",
              "        (mlp): Sequential(\n",
              "          (0): Linear(in_features=64, out_features=128, bias=True)\n",
              "          (1): GELU(approximate='none')\n",
              "          (2): Dropout(p=0.2, inplace=False)\n",
              "          (3): Linear(in_features=128, out_features=64, bias=True)\n",
              "          (4): Dropout(p=0.2, inplace=False)\n",
              "        )\n",
              "      )\n",
              "    )\n",
              "    (13): TransformerEncoderBlock(\n",
              "      (MSABlock): MultiHeadSelfAttention(\n",
              "        (layer_norm): LayerNorm((64,), eps=1e-05, elementwise_affine=True)\n",
              "        (multi_head_attention): MultiheadAttention(\n",
              "          (out_proj): NonDynamicallyQuantizableLinear(in_features=64, out_features=64, bias=True)\n",
              "        )\n",
              "      )\n",
              "      (MLPBlock): MLPBlock(\n",
              "        (layer): LayerNorm((64,), eps=1e-05, elementwise_affine=True)\n",
              "        (mlp): Sequential(\n",
              "          (0): Linear(in_features=64, out_features=128, bias=True)\n",
              "          (1): GELU(approximate='none')\n",
              "          (2): Dropout(p=0.2, inplace=False)\n",
              "          (3): Linear(in_features=128, out_features=64, bias=True)\n",
              "          (4): Dropout(p=0.2, inplace=False)\n",
              "        )\n",
              "      )\n",
              "    )\n",
              "    (14): TransformerEncoderBlock(\n",
              "      (MSABlock): MultiHeadSelfAttention(\n",
              "        (layer_norm): LayerNorm((64,), eps=1e-05, elementwise_affine=True)\n",
              "        (multi_head_attention): MultiheadAttention(\n",
              "          (out_proj): NonDynamicallyQuantizableLinear(in_features=64, out_features=64, bias=True)\n",
              "        )\n",
              "      )\n",
              "      (MLPBlock): MLPBlock(\n",
              "        (layer): LayerNorm((64,), eps=1e-05, elementwise_affine=True)\n",
              "        (mlp): Sequential(\n",
              "          (0): Linear(in_features=64, out_features=128, bias=True)\n",
              "          (1): GELU(approximate='none')\n",
              "          (2): Dropout(p=0.2, inplace=False)\n",
              "          (3): Linear(in_features=128, out_features=64, bias=True)\n",
              "          (4): Dropout(p=0.2, inplace=False)\n",
              "        )\n",
              "      )\n",
              "    )\n",
              "    (15): TransformerEncoderBlock(\n",
              "      (MSABlock): MultiHeadSelfAttention(\n",
              "        (layer_norm): LayerNorm((64,), eps=1e-05, elementwise_affine=True)\n",
              "        (multi_head_attention): MultiheadAttention(\n",
              "          (out_proj): NonDynamicallyQuantizableLinear(in_features=64, out_features=64, bias=True)\n",
              "        )\n",
              "      )\n",
              "      (MLPBlock): MLPBlock(\n",
              "        (layer): LayerNorm((64,), eps=1e-05, elementwise_affine=True)\n",
              "        (mlp): Sequential(\n",
              "          (0): Linear(in_features=64, out_features=128, bias=True)\n",
              "          (1): GELU(approximate='none')\n",
              "          (2): Dropout(p=0.2, inplace=False)\n",
              "          (3): Linear(in_features=128, out_features=64, bias=True)\n",
              "          (4): Dropout(p=0.2, inplace=False)\n",
              "        )\n",
              "      )\n",
              "    )\n",
              "    (16): TransformerEncoderBlock(\n",
              "      (MSABlock): MultiHeadSelfAttention(\n",
              "        (layer_norm): LayerNorm((64,), eps=1e-05, elementwise_affine=True)\n",
              "        (multi_head_attention): MultiheadAttention(\n",
              "          (out_proj): NonDynamicallyQuantizableLinear(in_features=64, out_features=64, bias=True)\n",
              "        )\n",
              "      )\n",
              "      (MLPBlock): MLPBlock(\n",
              "        (layer): LayerNorm((64,), eps=1e-05, elementwise_affine=True)\n",
              "        (mlp): Sequential(\n",
              "          (0): Linear(in_features=64, out_features=128, bias=True)\n",
              "          (1): GELU(approximate='none')\n",
              "          (2): Dropout(p=0.2, inplace=False)\n",
              "          (3): Linear(in_features=128, out_features=64, bias=True)\n",
              "          (4): Dropout(p=0.2, inplace=False)\n",
              "        )\n",
              "      )\n",
              "    )\n",
              "    (17): TransformerEncoderBlock(\n",
              "      (MSABlock): MultiHeadSelfAttention(\n",
              "        (layer_norm): LayerNorm((64,), eps=1e-05, elementwise_affine=True)\n",
              "        (multi_head_attention): MultiheadAttention(\n",
              "          (out_proj): NonDynamicallyQuantizableLinear(in_features=64, out_features=64, bias=True)\n",
              "        )\n",
              "      )\n",
              "      (MLPBlock): MLPBlock(\n",
              "        (layer): LayerNorm((64,), eps=1e-05, elementwise_affine=True)\n",
              "        (mlp): Sequential(\n",
              "          (0): Linear(in_features=64, out_features=128, bias=True)\n",
              "          (1): GELU(approximate='none')\n",
              "          (2): Dropout(p=0.2, inplace=False)\n",
              "          (3): Linear(in_features=128, out_features=64, bias=True)\n",
              "          (4): Dropout(p=0.2, inplace=False)\n",
              "        )\n",
              "      )\n",
              "    )\n",
              "    (18): TransformerEncoderBlock(\n",
              "      (MSABlock): MultiHeadSelfAttention(\n",
              "        (layer_norm): LayerNorm((64,), eps=1e-05, elementwise_affine=True)\n",
              "        (multi_head_attention): MultiheadAttention(\n",
              "          (out_proj): NonDynamicallyQuantizableLinear(in_features=64, out_features=64, bias=True)\n",
              "        )\n",
              "      )\n",
              "      (MLPBlock): MLPBlock(\n",
              "        (layer): LayerNorm((64,), eps=1e-05, elementwise_affine=True)\n",
              "        (mlp): Sequential(\n",
              "          (0): Linear(in_features=64, out_features=128, bias=True)\n",
              "          (1): GELU(approximate='none')\n",
              "          (2): Dropout(p=0.2, inplace=False)\n",
              "          (3): Linear(in_features=128, out_features=64, bias=True)\n",
              "          (4): Dropout(p=0.2, inplace=False)\n",
              "        )\n",
              "      )\n",
              "    )\n",
              "    (19): TransformerEncoderBlock(\n",
              "      (MSABlock): MultiHeadSelfAttention(\n",
              "        (layer_norm): LayerNorm((64,), eps=1e-05, elementwise_affine=True)\n",
              "        (multi_head_attention): MultiheadAttention(\n",
              "          (out_proj): NonDynamicallyQuantizableLinear(in_features=64, out_features=64, bias=True)\n",
              "        )\n",
              "      )\n",
              "      (MLPBlock): MLPBlock(\n",
              "        (layer): LayerNorm((64,), eps=1e-05, elementwise_affine=True)\n",
              "        (mlp): Sequential(\n",
              "          (0): Linear(in_features=64, out_features=128, bias=True)\n",
              "          (1): GELU(approximate='none')\n",
              "          (2): Dropout(p=0.2, inplace=False)\n",
              "          (3): Linear(in_features=128, out_features=64, bias=True)\n",
              "          (4): Dropout(p=0.2, inplace=False)\n",
              "        )\n",
              "      )\n",
              "    )\n",
              "  )\n",
              "  (classifier): Sequential(\n",
              "    (0): LayerNorm((64,), eps=1e-05, elementwise_affine=True)\n",
              "    (1): Linear(in_features=64, out_features=10, bias=True)\n",
              "  )\n",
              ")"
            ]
          },
          "execution_count": 19,
          "metadata": {},
          "output_type": "execute_result"
        }
      ],
      "source": [
        "model"
      ]
    },
    {
      "cell_type": "code",
      "execution_count": null,
      "metadata": {
        "id": "GSjMsNnGNP__"
      },
      "outputs": [],
      "source": [
        "del model, optimizer, criterion\n",
        "import gc\n",
        "gc.collect()\n",
        "torch.cuda.empty_cache()"
      ]
    }
  ],
  "metadata": {
    "accelerator": "GPU",
    "colab": {
      "gpuType": "T4",
      "provenance": []
    },
    "kernelspec": {
      "display_name": "Python 3",
      "name": "python3"
    },
    "language_info": {
      "name": "python"
    }
  },
  "nbformat": 4,
  "nbformat_minor": 0
}
