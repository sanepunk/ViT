{
 "nbformat": 4,
 "nbformat_minor": 0,
 "metadata": {
  "colab": {
   "provenance": [],
   "gpuType": "T4"
  },
  "kernelspec": {
   "name": "python3",
   "display_name": "Python 3"
  },
  "language_info": {
   "name": "python"
  },
  "accelerator": "GPU"
 },
 "cells": [
  {
   "cell_type": "code",
   "execution_count": 1,
   "metadata": {
    "colab": {
     "base_uri": "https://localhost:8080/"
    },
    "id": "pCT2u4XKxVoQ",
    "outputId": "96b0fa23-5160-46da-947c-21690c3e74d4"
   },
   "outputs": [
    {
     "output_type": "stream",
     "name": "stdout",
     "text": [
      "Cloning into 'ViT'...\n",
      "remote: Enumerating objects: 25, done.\u001B[K\n",
      "remote: Counting objects: 100% (25/25), done.\u001B[K\n",
      "remote: Compressing objects: 100% (19/19), done.\u001B[K\n",
      "remote: Total 25 (delta 5), reused 24 (delta 4), pack-reused 0 (from 0)\u001B[K\n",
      "Receiving objects: 100% (25/25), 11.30 KiB | 11.30 MiB/s, done.\n",
      "Resolving deltas: 100% (5/5), done.\n"
     ]
    }
   ],
   "source": "!git clone https://github.com/sanepunk/ViT.git"
  },
  {
   "cell_type": "code",
   "source": [
    "import torch\n",
    "import torch.nn as nn\n",
    "import torch.optim as optim\n",
    "import torchvision\n",
    "import torchvision.transforms as transforms\n",
    "from torch.utils.data import DataLoader\n",
    "from tqdm import tqdm\n",
    "from models import ViT\n",
    "import sys\n",
    "import numpy as np\n",
    "from sklearn.metrics import accuracy_score\n",
    "torch.set_num_threads(4)\n",
    "model = ViT(\n",
    "            image_size= 224,\n",
    "\t\t\tin_channels= 3,\n",
    "\t\t\tpatch_size= 16,\n",
    "\t\t\tnum_transformer_layers= 10,\n",
    "\t\t\tembedding_dim= 256,\n",
    "\t\t\tmlp_size= 3072,\n",
    "\t\t\tnum_heads= 8,\n",
    "\t\t\tattention_dropout = 0.,\n",
    "\t\t\tmlp_dropout = 0.1,\n",
    "\t\t\tembedding_dropout = 0.1,\n",
    "\t\t\tnum_classes= 10\n",
    ")\n",
    "# try:\n",
    "#     model.load_state_dict(torch.load('model_interrupted.pth'))\n",
    "# except:\n",
    "#     print(\"Model not available\")\n",
    "model = model.to('cuda')\n",
    "train_accs = []\n",
    "test_accs = []\n",
    "train_losses = []\n",
    "test_losses = []\n",
    "def handle_interrupt():\n",
    "    print(\"\\nTraining interrupted by user (Ctrl+C). Performing cleanup...\")\n",
    "    # Place any custom code here, like saving model, logging, etc.\n",
    "    # For example, you could save the model state:\n",
    "    torch.save(model.state_dict(), \"model_interrupted.pth\")\n",
    "    np.savez('training_results.npz', train_accs, test_accs, train_losses, test_losses)\n",
    "    print(\"Model state saved.\")\n",
    "    sys.exit(0)  # Exit the program gracefully\n",
    "\n",
    "\n",
    "\n",
    "\n",
    "transform = transforms.Compose([\n",
    "    transforms.Resize((224, 224)),  # Resize to 256x256 (standard ImageNet preprocessing)\n",
    "    # transforms.CenterCrop(224),  # Crop the center to 224x224 (standard ImageNet size)\n",
    "    transforms.ToTensor(),  # Convert the image to a tensor\n",
    "    transforms.Normalize(mean=[0.485, 0.456, 0.406], std=[0.229, 0.224, 0.225])  # ImageNet normalization\n",
    "])\n",
    "\n",
    "trainset = torchvision.datasets.Imagenette(root='./data', split = \"train\", download=False, transform=transform)\n",
    "testset = torchvision.datasets.Imagenette(root='./data', split='val', download=False, transform=transform)\n",
    "\n",
    "trainloader = DataLoader(trainset, batch_size=128, shuffle=True, num_workers=8)\n",
    "testloader = DataLoader(testset, batch_size=128, shuffle=False)\n",
    "\n",
    "criterion = nn.CrossEntropyLoss()\n",
    "optimizer = optim.Adam(model.parameters(), lr=0.001)\n",
    "num_epochs = 10\n",
    "\n",
    "\n",
    "try:\n",
    "    for epoch in range(num_epochs):\n",
    "        model.train()\n",
    "        running_loss = 0.0\n",
    "        all_train_labels = []\n",
    "        all_train_preds = []\n",
    "        train_bar = tqdm(trainloader, desc=f'Epoch {epoch + 1}/{num_epochs} - Training', ncols=100)\n",
    "\n",
    "        for batch_idx, (inputs, labels) in enumerate(train_bar):\n",
    "            inputs, labels = inputs.to('cuda'), labels.to('cuda')\n",
    "\n",
    "            optimizer.zero_grad()\n",
    "\n",
    "\n",
    "            outputs = model(inputs)\n",
    "            loss = criterion(outputs, labels)\n",
    "            loss.backward()\n",
    "            optimizer.step()\n",
    "\n",
    "            _, predicted = torch.max(outputs.data, 1)\n",
    "            all_train_labels.extend(labels.cpu().numpy())\n",
    "            all_train_preds.extend(predicted.cpu().numpy())\n",
    "            # print(\"\\nFirst 10 train labels:\", list(all_train_labels[:10]))\n",
    "            # print(\"\\nFirst 10 train predictions:\", list(all_train_preds[:10]))\n",
    "\n",
    "            running_loss += loss.item()\n",
    "            train_accuracy = accuracy_score(all_train_labels, all_train_preds) * 100\n",
    "            train_bar.set_postfix(loss=running_loss / (batch_idx + 1), acc=train_accuracy)\n",
    "\n",
    "            # Print training stats every 100 batches\n",
    "            # if (batch_idx + 1) % 100 == 0:\n",
    "            #     print(f'Batch [{batch_idx + 1}/{len(trainloader)}] - Loss: {running_loss / (batch_idx + 1):.4f} - Accuracy: {train_accuracy:.2f}%')\n",
    "\n",
    "        # Save training loss and accuracy for each epoch\n",
    "        epoch_train_loss = running_loss / len(trainloader)\n",
    "        epoch_train_acc = accuracy_score(all_train_labels, all_train_preds) * 100\n",
    "        train_losses.append(epoch_train_loss)\n",
    "        train_accs.append(epoch_train_acc)\n",
    "\n",
    "        model.eval()\n",
    "        all_test_labels = []\n",
    "        all_test_preds = []\n",
    "        running_test_loss = 0.0\n",
    "\n",
    "        with torch.no_grad():\n",
    "            for inputs, labels in testloader:\n",
    "                inputs, labels = inputs.to('cuda'), labels.to('cuda')\n",
    "                outputs = model(inputs)\n",
    "                loss = criterion(outputs, labels)\n",
    "\n",
    "                running_test_loss += loss.item()\n",
    "                _, predicted = torch.max(outputs.data, 1)\n",
    "                all_test_labels.extend(labels.cpu().numpy())\n",
    "                all_test_preds.extend(predicted.cpu().numpy())\n",
    "\n",
    "        epoch_test_loss = running_test_loss / len(testloader)\n",
    "        epoch_test_acc = accuracy_score(all_test_labels, all_test_preds) * 100\n",
    "        test_losses.append(epoch_test_loss)\n",
    "        test_accs.append(epoch_test_acc)\n",
    "\n",
    "        print(f'Epoch [{epoch + 1}/{num_epochs}] - Train Loss: {epoch_train_loss:.4f} - Train Accuracy: {epoch_train_acc:.2f}%')\n",
    "        print(f'Epoch [{epoch + 1}/{num_epochs}] - Test Loss: {epoch_test_loss:.4f} - Test Accuracy: {epoch_test_acc:.2f}%')\n",
    "\n",
    "    print(\"\\nTraining completed!\")\n",
    "    print(f\"Final Training Accuracy: {train_accs[-1]:.2f}%\")\n",
    "    print(f\"Final Test Accuracy: {test_accs[-1]:.2f}%\")\n",
    "\n",
    "except KeyboardInterrupt:\n",
    "    handle_interrupt()"
   ],
   "metadata": {
    "colab": {
     "base_uri": "https://localhost:8080/"
    },
    "id": "4peLDGcDxmF8",
    "outputId": "ba1e547e-62ac-4cd7-e3c7-7ce94c31204d"
   },
   "execution_count": 9,
   "outputs": [
    {
     "output_type": "stream",
     "name": "stderr",
     "text": [
      "Epoch 1/10 - Training: 100%|███████████████████| 74/74 [01:53<00:00,  1.54s/it, acc=19.9, loss=2.24]\n"
     ]
    },
    {
     "output_type": "stream",
     "name": "stdout",
     "text": [
      "Epoch [1/10] - Train Loss: 2.2353 - Train Accuracy: 19.88%\n",
      "Epoch [1/10] - Test Loss: 2.1057 - Test Accuracy: 24.00%\n"
     ]
    },
    {
     "output_type": "stream",
     "name": "stderr",
     "text": [
      "\rEpoch 2/10 - Training:   0%|                                                 | 0/74 [00:00<?, ?it/s]/usr/local/lib/python3.11/dist-packages/torch/utils/data/dataloader.py:617: UserWarning: This DataLoader will create 8 worker processes in total. Our suggested max number of worker in current system is 2, which is smaller than what this DataLoader is going to create. Please be aware that excessive worker creation might get DataLoader running slow or even freeze, lower the worker number to avoid potential slowness/freeze if necessary.\n",
      "  warnings.warn(\n",
      "Epoch 2/10 - Training: 100%|███████████████████| 74/74 [01:49<00:00,  1.48s/it, acc=29.4, loss=1.99]\n"
     ]
    },
    {
     "output_type": "stream",
     "name": "stdout",
     "text": [
      "Epoch [2/10] - Train Loss: 1.9884 - Train Accuracy: 29.36%\n",
      "Epoch [2/10] - Test Loss: 1.8921 - Test Accuracy: 34.11%\n"
     ]
    },
    {
     "output_type": "stream",
     "name": "stderr",
     "text": [
      "\rEpoch 3/10 - Training:   0%|                                                 | 0/74 [00:00<?, ?it/s]/usr/local/lib/python3.11/dist-packages/torch/utils/data/dataloader.py:617: UserWarning: This DataLoader will create 8 worker processes in total. Our suggested max number of worker in current system is 2, which is smaller than what this DataLoader is going to create. Please be aware that excessive worker creation might get DataLoader running slow or even freeze, lower the worker number to avoid potential slowness/freeze if necessary.\n",
      "  warnings.warn(\n",
      "Epoch 3/10 - Training: 100%|███████████████████| 74/74 [01:48<00:00,  1.47s/it, acc=38.3, loss=1.79]\n"
     ]
    },
    {
     "output_type": "stream",
     "name": "stdout",
     "text": [
      "Epoch [3/10] - Train Loss: 1.7882 - Train Accuracy: 38.27%\n",
      "Epoch [3/10] - Test Loss: 1.7469 - Test Accuracy: 40.82%\n"
     ]
    },
    {
     "output_type": "stream",
     "name": "stderr",
     "text": [
      "\rEpoch 4/10 - Training:   0%|                                                 | 0/74 [00:00<?, ?it/s]/usr/local/lib/python3.11/dist-packages/torch/utils/data/dataloader.py:617: UserWarning: This DataLoader will create 8 worker processes in total. Our suggested max number of worker in current system is 2, which is smaller than what this DataLoader is going to create. Please be aware that excessive worker creation might get DataLoader running slow or even freeze, lower the worker number to avoid potential slowness/freeze if necessary.\n",
      "  warnings.warn(\n",
      "Epoch 4/10 - Training: 100%|███████████████████| 74/74 [01:49<00:00,  1.48s/it, acc=44.3, loss=1.62]\n"
     ]
    },
    {
     "output_type": "stream",
     "name": "stdout",
     "text": [
      "Epoch [4/10] - Train Loss: 1.6196 - Train Accuracy: 44.28%\n",
      "Epoch [4/10] - Test Loss: 1.7023 - Test Accuracy: 41.83%\n"
     ]
    },
    {
     "output_type": "stream",
     "name": "stderr",
     "text": [
      "\rEpoch 5/10 - Training:   0%|                                                 | 0/74 [00:00<?, ?it/s]/usr/local/lib/python3.11/dist-packages/torch/utils/data/dataloader.py:617: UserWarning: This DataLoader will create 8 worker processes in total. Our suggested max number of worker in current system is 2, which is smaller than what this DataLoader is going to create. Please be aware that excessive worker creation might get DataLoader running slow or even freeze, lower the worker number to avoid potential slowness/freeze if necessary.\n",
      "  warnings.warn(\n",
      "Epoch 5/10 - Training: 100%|████████████████████| 74/74 [01:51<00:00,  1.51s/it, acc=48.6, loss=1.5]\n"
     ]
    },
    {
     "output_type": "stream",
     "name": "stdout",
     "text": [
      "Epoch [5/10] - Train Loss: 1.5035 - Train Accuracy: 48.61%\n",
      "Epoch [5/10] - Test Loss: 1.5021 - Test Accuracy: 48.54%\n"
     ]
    },
    {
     "output_type": "stream",
     "name": "stderr",
     "text": [
      "\rEpoch 6/10 - Training:   0%|                                                 | 0/74 [00:00<?, ?it/s]/usr/local/lib/python3.11/dist-packages/torch/utils/data/dataloader.py:617: UserWarning: This DataLoader will create 8 worker processes in total. Our suggested max number of worker in current system is 2, which is smaller than what this DataLoader is going to create. Please be aware that excessive worker creation might get DataLoader running slow or even freeze, lower the worker number to avoid potential slowness/freeze if necessary.\n",
      "  warnings.warn(\n",
      "Epoch 6/10 - Training: 100%|███████████████████| 74/74 [01:49<00:00,  1.48s/it, acc=51.8, loss=1.41]\n"
     ]
    },
    {
     "output_type": "stream",
     "name": "stdout",
     "text": [
      "Epoch [6/10] - Train Loss: 1.4111 - Train Accuracy: 51.84%\n",
      "Epoch [6/10] - Test Loss: 1.4593 - Test Accuracy: 51.11%\n"
     ]
    },
    {
     "output_type": "stream",
     "name": "stderr",
     "text": [
      "\rEpoch 7/10 - Training:   0%|                                                 | 0/74 [00:00<?, ?it/s]/usr/local/lib/python3.11/dist-packages/torch/utils/data/dataloader.py:617: UserWarning: This DataLoader will create 8 worker processes in total. Our suggested max number of worker in current system is 2, which is smaller than what this DataLoader is going to create. Please be aware that excessive worker creation might get DataLoader running slow or even freeze, lower the worker number to avoid potential slowness/freeze if necessary.\n",
      "  warnings.warn(\n",
      "Epoch 7/10 - Training: 100%|███████████████████| 74/74 [01:49<00:00,  1.48s/it, acc=54.9, loss=1.33]\n"
     ]
    },
    {
     "output_type": "stream",
     "name": "stdout",
     "text": [
      "Epoch [7/10] - Train Loss: 1.3348 - Train Accuracy: 54.95%\n",
      "Epoch [7/10] - Test Loss: 1.4093 - Test Accuracy: 53.02%\n"
     ]
    },
    {
     "output_type": "stream",
     "name": "stderr",
     "text": [
      "\rEpoch 8/10 - Training:   0%|                                                 | 0/74 [00:00<?, ?it/s]/usr/local/lib/python3.11/dist-packages/torch/utils/data/dataloader.py:617: UserWarning: This DataLoader will create 8 worker processes in total. Our suggested max number of worker in current system is 2, which is smaller than what this DataLoader is going to create. Please be aware that excessive worker creation might get DataLoader running slow or even freeze, lower the worker number to avoid potential slowness/freeze if necessary.\n",
      "  warnings.warn(\n",
      "Epoch 8/10 - Training: 100%|███████████████████| 74/74 [01:48<00:00,  1.46s/it, acc=57.3, loss=1.25]\n"
     ]
    },
    {
     "output_type": "stream",
     "name": "stdout",
     "text": [
      "Epoch [8/10] - Train Loss: 1.2528 - Train Accuracy: 57.32%\n",
      "Epoch [8/10] - Test Loss: 1.3451 - Test Accuracy: 54.37%\n"
     ]
    },
    {
     "output_type": "stream",
     "name": "stderr",
     "text": [
      "\rEpoch 9/10 - Training:   0%|                                                 | 0/74 [00:00<?, ?it/s]/usr/local/lib/python3.11/dist-packages/torch/utils/data/dataloader.py:617: UserWarning: This DataLoader will create 8 worker processes in total. Our suggested max number of worker in current system is 2, which is smaller than what this DataLoader is going to create. Please be aware that excessive worker creation might get DataLoader running slow or even freeze, lower the worker number to avoid potential slowness/freeze if necessary.\n",
      "  warnings.warn(\n",
      "Epoch 9/10 - Training: 100%|███████████████████| 74/74 [01:50<00:00,  1.49s/it, acc=58.6, loss=1.22]\n"
     ]
    },
    {
     "output_type": "stream",
     "name": "stdout",
     "text": [
      "Epoch [9/10] - Train Loss: 1.2237 - Train Accuracy: 58.60%\n",
      "Epoch [9/10] - Test Loss: 1.2813 - Test Accuracy: 58.06%\n"
     ]
    },
    {
     "output_type": "stream",
     "name": "stderr",
     "text": [
      "\rEpoch 10/10 - Training:   0%|                                                | 0/74 [00:00<?, ?it/s]/usr/local/lib/python3.11/dist-packages/torch/utils/data/dataloader.py:617: UserWarning: This DataLoader will create 8 worker processes in total. Our suggested max number of worker in current system is 2, which is smaller than what this DataLoader is going to create. Please be aware that excessive worker creation might get DataLoader running slow or even freeze, lower the worker number to avoid potential slowness/freeze if necessary.\n",
      "  warnings.warn(\n",
      "Epoch 10/10 - Training: 100%|██████████████████| 74/74 [01:52<00:00,  1.52s/it, acc=61.1, loss=1.15]\n"
     ]
    },
    {
     "output_type": "stream",
     "name": "stdout",
     "text": [
      "Epoch [10/10] - Train Loss: 1.1482 - Train Accuracy: 61.15%\n",
      "Epoch [10/10] - Test Loss: 1.3028 - Test Accuracy: 56.84%\n",
      "\n",
      "Training completed!\n",
      "Final Training Accuracy: 61.15%\n",
      "Final Test Accuracy: 56.84%\n"
     ]
    }
   ]
  },
  {
   "cell_type": "code",
   "source": [
    "torch.save(model.state_dict(), \"model_interrupted.pth\")\n",
    "np.savez('training_results.npz', train_accs, test_accs, train_losses, test_losses)"
   ],
   "metadata": {
    "id": "lttcAHGI9U6W"
   },
   "execution_count": 10,
   "outputs": []
  },
  {
   "cell_type": "code",
   "source": [
    "try:\n",
    "    for epoch in range(5):\n",
    "        model.train()\n",
    "        running_loss = 0.0\n",
    "        all_train_labels = []\n",
    "        all_train_preds = []\n",
    "        train_bar = tqdm(trainloader, desc=f'Epoch {epoch + 1}/{num_epochs} - Training', ncols=100)\n",
    "\n",
    "        for batch_idx, (inputs, labels) in enumerate(train_bar):\n",
    "            inputs, labels = inputs.to('cuda'), labels.to('cuda')\n",
    "\n",
    "            optimizer.zero_grad()\n",
    "\n",
    "\n",
    "            outputs = model(inputs)\n",
    "            loss = criterion(outputs, labels)\n",
    "            loss.backward()\n",
    "            optimizer.step()\n",
    "\n",
    "            _, predicted = torch.max(outputs.data, 1)\n",
    "            all_train_labels.extend(labels.cpu().numpy())\n",
    "            all_train_preds.extend(predicted.cpu().numpy())\n",
    "            # print(\"\\nFirst 10 train labels:\", list(all_train_labels[:10]))\n",
    "            # print(\"\\nFirst 10 train predictions:\", list(all_train_preds[:10]))\n",
    "\n",
    "            running_loss += loss.item()\n",
    "            train_accuracy = accuracy_score(all_train_labels, all_train_preds) * 100\n",
    "            train_bar.set_postfix(loss=running_loss / (batch_idx + 1), acc=train_accuracy)\n",
    "\n",
    "            # Print training stats every 100 batches\n",
    "            # if (batch_idx + 1) % 100 == 0:\n",
    "            #     print(f'Batch [{batch_idx + 1}/{len(trainloader)}] - Loss: {running_loss / (batch_idx + 1):.4f} - Accuracy: {train_accuracy:.2f}%')\n",
    "\n",
    "        # Save training loss and accuracy for each epoch\n",
    "        epoch_train_loss = running_loss / len(trainloader)\n",
    "        epoch_train_acc = accuracy_score(all_train_labels, all_train_preds) * 100\n",
    "        train_losses.append(epoch_train_loss)\n",
    "        train_accs.append(epoch_train_acc)\n",
    "\n",
    "        model.eval()\n",
    "        all_test_labels = []\n",
    "        all_test_preds = []\n",
    "        running_test_loss = 0.0\n",
    "\n",
    "        with torch.no_grad():\n",
    "            for inputs, labels in testloader:\n",
    "                inputs, labels = inputs.to('cuda'), labels.to('cuda')\n",
    "                outputs = model(inputs)\n",
    "                loss = criterion(outputs, labels)\n",
    "\n",
    "                running_test_loss += loss.item()\n",
    "                _, predicted = torch.max(outputs.data, 1)\n",
    "                all_test_labels.extend(labels.cpu().numpy())\n",
    "                all_test_preds.extend(predicted.cpu().numpy())\n",
    "\n",
    "        epoch_test_loss = running_test_loss / len(testloader)\n",
    "        epoch_test_acc = accuracy_score(all_test_labels, all_test_preds) * 100\n",
    "        test_losses.append(epoch_test_loss)\n",
    "        test_accs.append(epoch_test_acc)\n",
    "\n",
    "        print(f'Epoch [{epoch + 1}/{num_epochs}] - Train Loss: {epoch_train_loss:.4f} - Train Accuracy: {epoch_train_acc:.2f}%')\n",
    "        print(f'Epoch [{epoch + 1}/{num_epochs}] - Test Loss: {epoch_test_loss:.4f} - Test Accuracy: {epoch_test_acc:.2f}%')\n",
    "\n",
    "    print(\"\\nTraining completed!\")\n",
    "    print(f\"Final Training Accuracy: {train_accs[-1]:.2f}%\")\n",
    "    print(f\"Final Test Accuracy: {test_accs[-1]:.2f}%\")\n",
    "\n",
    "except KeyboardInterrupt:\n",
    "    handle_interrupt()\n",
    "\n",
    "torch.save(model.state_dict(), \"model_interrupted.pth\")\n",
    "np.savez('training_results.npz', train_accs, test_accs, train_losses, test_losses)"
   ],
   "metadata": {
    "colab": {
     "base_uri": "https://localhost:8080/"
    },
    "id": "Nj0cd_Xq937n",
    "outputId": "62877727-5034-4575-db26-6b91fa00b83a"
   },
   "execution_count": 26,
   "outputs": [
    {
     "metadata": {
      "tags": null
     },
     "name": "stderr",
     "output_type": "stream",
     "text": [
      "Epoch 1/10 - Training:   0%|                                                 | 0/74 [00:00<?, ?it/s]/usr/local/lib/python3.11/dist-packages/torch/utils/data/dataloader.py:617: UserWarning: This DataLoader will create 8 worker processes in total. Our suggested max number of worker in current system is 2, which is smaller than what this DataLoader is going to create. Please be aware that excessive worker creation might get DataLoader running slow or even freeze, lower the worker number to avoid potential slowness/freeze if necessary.\n",
      "  warnings.warn(\n",
      "Epoch 1/10 - Training: 100%|██████████████████| 74/74 [01:51<00:00,  1.50s/it, acc=71.2, loss=0.863]\n"
     ]
    },
    {
     "metadata": {
      "tags": null
     },
     "name": "stdout",
     "output_type": "stream",
     "text": [
      "Epoch [1/10] - Train Loss: 0.8628 - Train Accuracy: 71.21%\n",
      "Epoch [1/10] - Test Loss: 1.2966 - Test Accuracy: 59.62%\n"
     ]
    },
    {
     "metadata": {
      "tags": null
     },
     "name": "stderr",
     "output_type": "stream",
     "text": [
      "Epoch 2/10 - Training:   0%|                                                 | 0/74 [00:00<?, ?it/s]/usr/local/lib/python3.11/dist-packages/torch/utils/data/dataloader.py:617: UserWarning: This DataLoader will create 8 worker processes in total. Our suggested max number of worker in current system is 2, which is smaller than what this DataLoader is going to create. Please be aware that excessive worker creation might get DataLoader running slow or even freeze, lower the worker number to avoid potential slowness/freeze if necessary.\n",
      "  warnings.warn(\n",
      "Epoch 2/10 - Training: 100%|██████████████████| 74/74 [01:49<00:00,  1.48s/it, acc=71.4, loss=0.849]\n"
     ]
    },
    {
     "metadata": {
      "tags": null
     },
     "name": "stdout",
     "output_type": "stream",
     "text": [
      "Epoch [2/10] - Train Loss: 0.8486 - Train Accuracy: 71.40%\n",
      "Epoch [2/10] - Test Loss: 1.2202 - Test Accuracy: 61.81%\n"
     ]
    },
    {
     "output_type": "stream",
     "name": "stderr",
     "text": [
      "Epoch 3/10 - Training:   0%|                                                 | 0/74 [00:00<?, ?it/s]/usr/local/lib/python3.11/dist-packages/torch/utils/data/dataloader.py:617: UserWarning: This DataLoader will create 8 worker processes in total. Our suggested max number of worker in current system is 2, which is smaller than what this DataLoader is going to create. Please be aware that excessive worker creation might get DataLoader running slow or even freeze, lower the worker number to avoid potential slowness/freeze if necessary.\n",
      "  warnings.warn(\n",
      "Epoch 3/10 - Training: 100%|████████████████████| 74/74 [01:49<00:00,  1.48s/it, acc=73.2, loss=0.8]\n"
     ]
    },
    {
     "output_type": "stream",
     "name": "stdout",
     "text": [
      "Epoch [3/10] - Train Loss: 0.7996 - Train Accuracy: 73.21%\n",
      "Epoch [3/10] - Test Loss: 1.2115 - Test Accuracy: 61.38%\n"
     ]
    },
    {
     "output_type": "stream",
     "name": "stderr",
     "text": [
      "\rEpoch 4/10 - Training:   0%|                                                 | 0/74 [00:00<?, ?it/s]/usr/local/lib/python3.11/dist-packages/torch/utils/data/dataloader.py:617: UserWarning: This DataLoader will create 8 worker processes in total. Our suggested max number of worker in current system is 2, which is smaller than what this DataLoader is going to create. Please be aware that excessive worker creation might get DataLoader running slow or even freeze, lower the worker number to avoid potential slowness/freeze if necessary.\n",
      "  warnings.warn(\n",
      "Epoch 4/10 - Training: 100%|████████████████████| 74/74 [01:48<00:00,  1.47s/it, acc=72.8, loss=0.8]\n"
     ]
    },
    {
     "output_type": "stream",
     "name": "stdout",
     "text": [
      "Epoch [4/10] - Train Loss: 0.7996 - Train Accuracy: 72.84%\n",
      "Epoch [4/10] - Test Loss: 1.2849 - Test Accuracy: 59.67%\n"
     ]
    },
    {
     "output_type": "stream",
     "name": "stderr",
     "text": [
      "\rEpoch 5/10 - Training:   0%|                                                 | 0/74 [00:00<?, ?it/s]/usr/local/lib/python3.11/dist-packages/torch/utils/data/dataloader.py:617: UserWarning: This DataLoader will create 8 worker processes in total. Our suggested max number of worker in current system is 2, which is smaller than what this DataLoader is going to create. Please be aware that excessive worker creation might get DataLoader running slow or even freeze, lower the worker number to avoid potential slowness/freeze if necessary.\n",
      "  warnings.warn(\n",
      "Epoch 5/10 - Training: 100%|██████████████████| 74/74 [01:48<00:00,  1.47s/it, acc=73.7, loss=0.766]\n"
     ]
    },
    {
     "output_type": "stream",
     "name": "stdout",
     "text": [
      "Epoch [5/10] - Train Loss: 0.7660 - Train Accuracy: 73.68%\n",
      "Epoch [5/10] - Test Loss: 1.2043 - Test Accuracy: 62.19%\n",
      "\n",
      "Training completed!\n",
      "Final Training Accuracy: 73.68%\n",
      "Final Test Accuracy: 62.19%\n"
     ]
    }
   ]
  },
  {
   "cell_type": "code",
   "source": [
    "epochs = np.arange(1, num_epochs+14)\n",
    "import matplotlib.pyplot as plt\n",
    "\n",
    "plt.figure()\n",
    "plt.plot(epochs, train_accs, label='Training Accuracy')\n",
    "plt.plot(epochs, test_accs, label='Test Accuracy')\n",
    "plt.xlabel('Epochs')\n",
    "plt.ylabel('Accuracy')\n",
    "plt.legend()\n",
    "plt.show()"
   ],
   "metadata": {
    "colab": {
     "base_uri": "https://localhost:8080/",
     "height": 449
    },
    "id": "S9a9tZsp9dGN",
    "outputId": "7001600e-d5a4-4910-b242-e0d0b48656c3"
   },
   "execution_count": 31,
   "outputs": [
    {
     "output_type": "display_data",
     "data": {
      "text/plain": [
       "<Figure size 640x480 with 1 Axes>"
      ],
      "image/png": "[encoded data removed]"
     },
     "metadata": {}
    }
   ]
  },
  {
   "cell_type": "code",
   "source": [
    "plt.figure()\n",
    "plt.plot(epochs, train_losses, label='Training Loss')\n",
    "plt.plot(epochs, test_losses, label='Test Loss')\n",
    "plt.xlabel('Epochs')\n",
    "plt.ylabel('Loss')\n",
    "plt.legend()\n",
    "plt.show()"
   ],
   "metadata": {
    "colab": {
     "base_uri": "https://localhost:8080/",
     "height": 449
    },
    "id": "fG6K1qET9rwc",
    "outputId": "09c01b7b-d094-41e2-8d62-d01bd9a1d166"
   },
   "execution_count": 32,
   "outputs": [
    {
     "output_type": "display_data",
     "data": {
      "text/plain": [
       "<Figure size 640x480 with 1 Axes>"
      ],
      "image/png": "[encoded data removed]"
     },
     "metadata": {}
    }
   ]
  }
 ]
}
